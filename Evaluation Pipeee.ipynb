{
 "cells": [
  {
   "cell_type": "code",
   "execution_count": null,
   "id": "7e8fabba",
   "metadata": {},
   "outputs": [],
   "source": [
    "import numpy as np\n",
    "from sklearn.metrics import accuracy_score, precision_score, recall_score, f1_score\n",
    "\n",
    "class EvaluationPipeline:\n",
    "    def __init__(self, model):\n",
    "        self.model = model\n",
    "\n",
    "    def evaluate(self, X_test, y_test):\n",
    "        # Make predictions on the test set\n",
    "        y_pred = self.model.predict(X_test)\n",
    "\n",
    "        # Convert predictions to binary class labels\n",
    "        y_pred = np.round(y_pred).astype(int)\n",
    "\n",
    "        # Calculate evaluation metrics\n",
    "        accuracy = accuracy_score(y_test, y_pred)\n",
    "        precision = precision_score(y_test, y_pred)\n",
    "        recall = recall_score(y_test, y_pred)\n",
    "        f1 = f1_score(y_test, y_pred)\n",
    "\n",
    "        # Create a dictionary to store evaluation results\n",
    "        evaluation_results = {\n",
    "            'accuracy': accuracy,\n",
    "            'precision': precision,\n",
    "            'recall': recall,\n",
    "            'f1': f1\n",
    "        }\n",
    "\n",
    "        return evaluation_results\n"
   ]
  },
  {
   "cell_type": "code",
   "execution_count": null,
   "id": "a215e776",
   "metadata": {},
   "outputs": [],
   "source": [
    "# Create an instance of the evaluation pipeline\n",
    "evaluation_pipeline = EvaluationPipeline(modelname)\n",
    "\n",
    "# Evaluate the model on the test set\n",
    "evaluation_results = evaluation_pipeline.evaluate(X_test, y_test)\n",
    "\n",
    "# Print the evaluation results\n",
    "print(\"Evaluation Results:\")\n",
    "print(\"Accuracy:\", evaluation_results['accuracy'])\n",
    "print(\"Precision:\", evaluation_results['precision'])\n",
    "print(\"Recall:\", evaluation_results['recall'])\n",
    "print(\"F1-Score:\", evaluation_results['f1'])\n"
   ]
  }
 ],
 "metadata": {
  "kernelspec": {
   "display_name": "Python 3 (ipykernel)",
   "language": "python",
   "name": "python3"
  },
  "language_info": {
   "codemirror_mode": {
    "name": "ipython",
    "version": 3
   },
   "file_extension": ".py",
   "mimetype": "text/x-python",
   "name": "python",
   "nbconvert_exporter": "python",
   "pygments_lexer": "ipython3",
   "version": "3.9.12"
  }
 },
 "nbformat": 4,
 "nbformat_minor": 5
}
