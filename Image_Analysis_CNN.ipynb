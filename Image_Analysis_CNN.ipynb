{
  "cells": [
    {
      "cell_type": "markdown",
      "metadata": {
        "id": "view-in-github",
        "colab_type": "text"
      },
      "source": [
        "<a href=\"https://colab.research.google.com/github/Smoulvad01/AI-C1-image-/blob/main/Image_Analysis_CNN.ipynb\" target=\"_parent\"><img src=\"https://colab.research.google.com/assets/colab-badge.svg\" alt=\"Open In Colab\"/></a>"
      ]
    },
    {
      "cell_type": "code",
      "execution_count": 27,
      "id": "e2bbde89",
      "metadata": {
        "colab": {
          "base_uri": "https://localhost:8080/"
        },
        "id": "e2bbde89",
        "outputId": "08f55bb3-ed59-4dc8-d3cb-33d336f99d3f"
      },
      "outputs": [
        {
          "output_type": "stream",
          "name": "stdout",
          "text": [
            "Looking in indexes: https://pypi.org/simple, https://us-python.pkg.dev/colab-wheels/public/simple/\n",
            "Requirement already satisfied: livelossplot in /usr/local/lib/python3.10/dist-packages (0.5.5)\n",
            "Requirement already satisfied: matplotlib in /usr/local/lib/python3.10/dist-packages (from livelossplot) (3.7.1)\n",
            "Requirement already satisfied: bokeh in /usr/local/lib/python3.10/dist-packages (from livelossplot) (2.4.3)\n",
            "Requirement already satisfied: Jinja2>=2.9 in /usr/local/lib/python3.10/dist-packages (from bokeh->livelossplot) (3.1.2)\n",
            "Requirement already satisfied: numpy>=1.11.3 in /usr/local/lib/python3.10/dist-packages (from bokeh->livelossplot) (1.22.4)\n",
            "Requirement already satisfied: packaging>=16.8 in /usr/local/lib/python3.10/dist-packages (from bokeh->livelossplot) (23.1)\n",
            "Requirement already satisfied: pillow>=7.1.0 in /usr/local/lib/python3.10/dist-packages (from bokeh->livelossplot) (8.4.0)\n",
            "Requirement already satisfied: PyYAML>=3.10 in /usr/local/lib/python3.10/dist-packages (from bokeh->livelossplot) (6.0)\n",
            "Requirement already satisfied: tornado>=5.1 in /usr/local/lib/python3.10/dist-packages (from bokeh->livelossplot) (6.3.1)\n",
            "Requirement already satisfied: typing-extensions>=3.10.0 in /usr/local/lib/python3.10/dist-packages (from bokeh->livelossplot) (4.5.0)\n",
            "Requirement already satisfied: contourpy>=1.0.1 in /usr/local/lib/python3.10/dist-packages (from matplotlib->livelossplot) (1.0.7)\n",
            "Requirement already satisfied: cycler>=0.10 in /usr/local/lib/python3.10/dist-packages (from matplotlib->livelossplot) (0.11.0)\n",
            "Requirement already satisfied: fonttools>=4.22.0 in /usr/local/lib/python3.10/dist-packages (from matplotlib->livelossplot) (4.39.3)\n",
            "Requirement already satisfied: kiwisolver>=1.0.1 in /usr/local/lib/python3.10/dist-packages (from matplotlib->livelossplot) (1.4.4)\n",
            "Requirement already satisfied: pyparsing>=2.3.1 in /usr/local/lib/python3.10/dist-packages (from matplotlib->livelossplot) (3.0.9)\n",
            "Requirement already satisfied: python-dateutil>=2.7 in /usr/local/lib/python3.10/dist-packages (from matplotlib->livelossplot) (2.8.2)\n",
            "Requirement already satisfied: MarkupSafe>=2.0 in /usr/local/lib/python3.10/dist-packages (from Jinja2>=2.9->bokeh->livelossplot) (2.1.2)\n",
            "Requirement already satisfied: six>=1.5 in /usr/local/lib/python3.10/dist-packages (from python-dateutil>=2.7->matplotlib->livelossplot) (1.16.0)\n"
          ]
        }
      ],
      "source": [
        "!pip install livelossplot"
      ]
    },
    {
      "cell_type": "markdown",
      "id": "78641402",
      "metadata": {
        "id": "78641402"
      },
      "source": [
        "# <font color='green'>Import</font>"
      ]
    },
    {
      "cell_type": "code",
      "execution_count": 16,
      "id": "a17a795f",
      "metadata": {
        "colab": {
          "base_uri": "https://localhost:8080/"
        },
        "id": "a17a795f",
        "outputId": "a294fa0a-2641-45cb-bfc8-005bb2f73522"
      },
      "outputs": [
        {
          "output_type": "stream",
          "name": "stdout",
          "text": [
            "2.12.0\n"
          ]
        }
      ],
      "source": [
        "import cv2\n",
        "from PIL import Image # To display images\n",
        "from sklearn.decomposition import NMF, PCA\n",
        "\n",
        "# TensorFlow and tf.keras\n",
        "import tensorflow as tf\n",
        "from keras.utils.vis_utils import plot_model\n",
        "\n",
        "# Helper libraries\n",
        "import random\n",
        "import numpy as np\n",
        "import pandas as pd\n",
        "import matplotlib.pyplot as plt\n",
        "from importlib import reload\n",
        "from sklearn.pipeline import Pipeline\n",
        "import os\n",
        "from livelossplot import PlotLossesKeras\n",
        "\n",
        "# load models \n",
        "from sklearn.linear_model import LogisticRegression\n",
        "from sklearn.ensemble import RandomForestClassifier\n",
        "from sklearn.dummy import DummyClassifier\n",
        "from sklearn.model_selection import GridSearchCV\n",
        "from sklearn.neighbors import KNeighborsClassifier\n",
        "from sklearn.metrics import accuracy_score\n",
        "\n",
        "# metrics and evaluation\n",
        "from sklearn.metrics import accuracy_score\n",
        "from sklearn.metrics import ConfusionMatrixDisplay, confusion_matrix\n",
        "from sklearn.metrics import classification_report\n",
        "\n",
        "reload(plt)\n",
        "np.set_printoptions(suppress=True)\n",
        "print(tf.__version__)\n",
        "\n",
        "\n"
      ]
    },
    {
      "cell_type": "code",
      "execution_count": 17,
      "id": "VNuKRhQFiK3l",
      "metadata": {
        "colab": {
          "base_uri": "https://localhost:8080/"
        },
        "id": "VNuKRhQFiK3l",
        "outputId": "a735932e-a891-4ed9-c918-667e3fd9cf59"
      },
      "outputs": [
        {
          "output_type": "stream",
          "name": "stdout",
          "text": [
            "Drive already mounted at /content/drive; to attempt to forcibly remount, call drive.mount(\"/content/drive\", force_remount=True).\n"
          ]
        }
      ],
      "source": [
        "from google.colab import drive\n",
        "drive.mount('/content/drive')"
      ]
    },
    {
      "cell_type": "markdown",
      "id": "0d38d346",
      "metadata": {
        "id": "0d38d346"
      },
      "source": [
        "# <font color='green'>Load and Process the Data</font>"
      ]
    },
    {
      "cell_type": "code",
      "execution_count": 24,
      "id": "9fdba3b1",
      "metadata": {
        "id": "9fdba3b1",
        "scrolled": true
      },
      "outputs": [],
      "source": [
        "# Use this if working in Jupyter Notebook (not Colab)\n",
        "directory_train = \"/content/drive/MyDrive/dataset_new/train\"\n",
        "directory_test = \"/content/drive/MyDrive/dataset_new/test\""
      ]
    },
    {
      "cell_type": "code",
      "source": [
        "def load_image_dataset(directory):\n",
        "    dataset = tf.keras.utils.image_dataset_from_directory(\n",
        "        directory,\n",
        "        labels='inferred',\n",
        "        label_mode='int',\n",
        "        class_names=None,\n",
        "        color_mode='grayscale',\n",
        "        batch_size=32,\n",
        "        image_size=(256, 256),\n",
        "        shuffle=True,\n",
        "        seed=42,\n",
        "        validation_split=False,\n",
        "        interpolation='mitchellcubic',\n",
        "        follow_links=False,\n",
        "        crop_to_aspect_ratio=False,\n",
        "    )\n",
        "    return dataset"
      ],
      "metadata": {
        "id": "VkQP9YPiqD21"
      },
      "id": "VkQP9YPiqD21",
      "execution_count": 22,
      "outputs": []
    },
    {
      "cell_type": "code",
      "source": [
        "# COPY TO INSPECT AND PROCESSING\n",
        "train_images = load_image_dataset(directory_train)\n",
        "test_images = load_image_dataset(directory_test)"
      ],
      "metadata": {
        "colab": {
          "base_uri": "https://localhost:8080/"
        },
        "id": "ZAegpLEOqIjE",
        "outputId": "21ca16cc-857a-4280-ce26-63502c702367"
      },
      "id": "ZAegpLEOqIjE",
      "execution_count": 32,
      "outputs": [
        {
          "output_type": "stream",
          "name": "stdout",
          "text": [
            "Found 1234 files belonging to 2 classes.\n",
            "Found 218 files belonging to 2 classes.\n"
          ]
        }
      ]
    },
    {
      "cell_type": "code",
      "execution_count": 29,
      "id": "29facc22",
      "metadata": {
        "colab": {
          "base_uri": "https://localhost:8080/"
        },
        "id": "29facc22",
        "outputId": "8344dd3c-fc30-4de3-983b-b1304ed6ed57"
      },
      "outputs": [
        {
          "output_type": "stream",
          "name": "stdout",
          "text": [
            "0.15013774104683195\n"
          ]
        }
      ],
      "source": [
        "#MOVE TO INSPECT AND PROCESSING\n",
        "#Checking what the train test split is: \n",
        "train_size = 1234\n",
        "test_size = 218\n",
        "\n",
        "print(test_size/(train_size+test_size))"
      ]
    },
    {
      "cell_type": "code",
      "execution_count": 30,
      "id": "a987d5d6",
      "metadata": {
        "colab": {
          "base_uri": "https://localhost:8080/"
        },
        "id": "a987d5d6",
        "outputId": "c531248d-6eaa-4b2e-e69b-83dd74ea10b1"
      },
      "outputs": [
        {
          "output_type": "stream",
          "name": "stdout",
          "text": [
            "['Closed', 'Open']\n"
          ]
        }
      ],
      "source": [
        "#COPY TO INSPECT AND PROCESSING\n",
        "# labeling to give classnames \n",
        "class_names = train_images.class_names\n",
        "print(class_names)"
      ]
    },
    {
      "cell_type": "code",
      "execution_count": 31,
      "id": "hNF3pt_Nkuqx",
      "metadata": {
        "colab": {
          "base_uri": "https://localhost:8080/"
        },
        "id": "hNF3pt_Nkuqx",
        "outputId": "21d455aa-52be-432e-e52f-ee69c3485cbf"
      },
      "outputs": [
        {
          "output_type": "stream",
          "name": "stdout",
          "text": [
            "Class Open: 617\n",
            "Class Closed: 617\n"
          ]
        }
      ],
      "source": [
        "#MOVE TO INSPECTION\n",
        "# get the count of elements in the batched datasets\n",
        "from collections import Counter\n",
        "\n",
        "counter = Counter()\n",
        "\n",
        "for images, labels in train_images:\n",
        "    # Count the labels in this batch\n",
        "    counter.update(labels.numpy())\n",
        "\n",
        "# Print the counts of each class\n",
        "for class_index, count in counter.items():\n",
        "    print(f\"Class {train_images.class_names[class_index]}: {count}\")"
      ]
    },
    {
      "cell_type": "markdown",
      "id": "e603f871",
      "metadata": {
        "id": "e603f871"
      },
      "source": [
        "# <font color='GREEN'>Build Models</font>"
      ]
    },
    {
      "cell_type": "markdown",
      "id": "2IeIOM8pKGV8",
      "metadata": {
        "id": "2IeIOM8pKGV8"
      },
      "source": [
        "# <font color='blue'> Define X_train, y_train and PCA </font>"
      ]
    },
    {
      "cell_type": "code",
      "execution_count": null,
      "id": "Y84upLy5cWgj",
      "metadata": {
        "id": "Y84upLy5cWgj"
      },
      "outputs": [],
      "source": [
        "# Initialize lists to store the images and labels\n",
        "train_images_list = []\n",
        "train_labels_list = []\n",
        "\n",
        "# Iterate over the dataset\n",
        "for images, labels in train_images:\n",
        "    # Flatten the images\n",
        "    flat_images = tf.reshape(images, (images.shape[0], -1)).numpy()\n",
        "    # Append the images and labels to the lists\n",
        "    train_images_list.append(flat_images)\n",
        "    train_labels_list.append(labels.numpy())\n",
        "\n",
        "# Concatenate the list of arrays into a single numpy array\n",
        "X_train = np.concatenate(train_images_list)\n",
        "y_train = np.concatenate(train_labels_list)"
      ]
    },
    {
      "cell_type": "code",
      "execution_count": null,
      "id": "t3t7nFLwcl0h",
      "metadata": {
        "id": "t3t7nFLwcl0h"
      },
      "outputs": [],
      "source": [
        "# Initialize lists to store the images and labels\n",
        "test_images_list = []\n",
        "test_labels_list = []\n",
        "\n",
        "# Iterate over the dataset\n",
        "for images, labels in test_images:\n",
        "    # Flatten the images\n",
        "    flat_images = tf.reshape(images, (images.shape[0], -1)).numpy()\n",
        "    # Append the images and labels to the lists\n",
        "    test_images_list.append(flat_images)\n",
        "    test_labels_list.append(labels.numpy())\n",
        "\n",
        "# Concatenate the list of arrays into a single numpy array\n",
        "X_test = np.concatenate(test_images_list)\n",
        "y_test = np.concatenate(test_labels_list)"
      ]
    },
    {
      "cell_type": "code",
      "execution_count": null,
      "id": "2mFa8ZQ4oI07",
      "metadata": {
        "colab": {
          "base_uri": "https://localhost:8080/",
          "height": 35
        },
        "id": "2mFa8ZQ4oI07",
        "outputId": "542bc5a0-de9a-48e1-8ac8-c4788221a4c1"
      },
      "outputs": [
        {
          "data": {
            "text/plain": [
              "'X_train_pca.shape: (1234, 50)'"
            ]
          },
          "execution_count": 32,
          "metadata": {},
          "output_type": "execute_result"
        }
      ],
      "source": [
        "pca = PCA(\n",
        "    n_components=50,\n",
        "    whiten=True, \n",
        "    random_state=0\n",
        ")\n",
        "X_train_pca = pca.fit_transform(X_train)\n",
        "X_test_pca = pca.transform(X_test)\n",
        "\n",
        "f\"X_train_pca.shape: {X_train_pca.shape}\"\n",
        "\n",
        "# USE THIS TEST AND TRAIN DATA WHEN CODE BELOW WORKS"
      ]
    },
    {
      "cell_type": "markdown",
      "id": "Yh98QV9IhLKl",
      "metadata": {
        "id": "Yh98QV9IhLKl"
      },
      "source": [
        "# <font color='blue'> Dummy Classifier </font>"
      ]
    },
    {
      "cell_type": "code",
      "execution_count": null,
      "id": "hs82AsFId_h_",
      "metadata": {
        "colab": {
          "base_uri": "https://localhost:8080/"
        },
        "id": "hs82AsFId_h_",
        "outputId": "e3a24e15-a118-4a0f-bf36-3237c46d5af5"
      },
      "outputs": [
        {
          "name": "stdout",
          "output_type": "stream",
          "text": [
            "Dummy Classifier accuracy: 0.500000\n",
            "Accuracy on training set: 0.500\n",
            "Accuracy on test set: 0.500\n"
          ]
        }
      ],
      "source": [
        "# Train and evaluate a DummyClassifier\n",
        "dummy = DummyClassifier(strategy=\"most_frequent\")\n",
        "dummy.fit(X_train, y_train)\n",
        "y_pred_dummy = dummy.predict(X_test)\n",
        "print(\"Dummy Classifier accuracy: %f\" % accuracy_score(y_test, y_pred_dummy))\n",
        "\n",
        "print(\"Accuracy on training set: {:.3f}\".format(dummy.score(X_train, y_train)))\n",
        "print(\"Accuracy on test set: {:.3f}\".format(dummy.score(X_test, y_test)))"
      ]
    },
    {
      "cell_type": "markdown",
      "id": "pQat6TbIhRfK",
      "metadata": {
        "id": "pQat6TbIhRfK"
      },
      "source": [
        "# <font color='blue'> Logistic Regression & KNN </font>"
      ]
    },
    {
      "cell_type": "code",
      "source": [
        "# Defining the pipeline for Logistic Regression\n",
        "pipe_log_reg = Pipeline([\n",
        "    (\"clf\", LogisticRegression(max_iter=1000))\n",
        "])\n",
        "\n",
        "params_log_reg = { \n",
        "    \"clf__C\": [0.001, 0.01, 0.1, 1],\n",
        "}\n",
        "\n",
        "# Perform GridSearchCV for Logistic Regression\n",
        "grid_search_log_reg = GridSearchCV(pipe_log_reg, params_log_reg, verbose=2, cv=3)\n",
        "grid_search_log_reg.fit(X_train, y_train)\n",
        "\n",
        "# Print the best parameters and score for Logistic Regression\n",
        "print(f\"Best score (Logistic Regression): {grid_search_log_reg.best_score_:.3f}\")\n",
        "print(\"Best parameters set (Logistic Regression):\")\n",
        "best_parameters_log_reg = grid_search_log_reg.best_estimator_.get_params()\n",
        "for param_name in sorted(params_log_reg.keys()):\n",
        "    print(f\"\\t{param_name}: {best_parameters_log_reg[param_name]}\")\n",
        "\n",
        "# Print the accuracy scores for Logistic Regression\n",
        "print(\"Train (Logistic Regression)\", grid_search_log_reg.score(X_train, y_train))\n",
        "print(\"Test (Logistic Regression)\", grid_search_log_reg.score(X_test, y_test))\n",
        "\n",
        "# Defining the pipeline for KNeighborsClassifier\n",
        "pipe_knn = Pipeline([\n",
        "    (\"clf\", KNeighborsClassifier())\n",
        "])\n",
        "\n",
        "params_knn = {\n",
        "    \"clf__n_neighbors\": np.arange(1,20),\n",
        "    \"clf__metric\": [\"euclidean\"],\n",
        "    \"clf__weights\": [\"uniform\", \"distance\"]\n",
        "}\n",
        "\n",
        "# Perform GridSearchCV for KNeighborsClassifier\n",
        "grid_search_knn = GridSearchCV(pipe_knn, params_knn, verbose=2, cv=3)\n",
        "grid_search_knn.fit(X_train, y_train)\n",
        "\n",
        "# Print the best parameters and score for KNeighborsClassifier\n",
        "print(f\"Best score (KNN): {grid_search_knn.best_score_:.3f}\")\n",
        "print(\"Best parameters set (KNN):\")\n",
        "best_parameters_knn = grid_search_knn.best_estimator_.get_params()\n",
        "for param_name in sorted(params_knn.keys()):\n",
        "    print(f\"\\t{param_name}: {best_parameters_knn[param_name]}\")\n",
        "\n",
        "# Print the accuracy scores for KNeighborsClassifier\n",
        "print(\"Train (KNN)\", grid_search_knn.score(X_train, y_train))\n",
        "print(\"Test (KNN)\", grid_search_knn.score(X_test, y_test))"
      ],
      "metadata": {
        "id": "dyWtjSQxwdQt"
      },
      "id": "dyWtjSQxwdQt",
      "execution_count": null,
      "outputs": []
    },
    {
      "cell_type": "markdown",
      "source": [
        "figure out how to use this for evaluation and confusion matrix"
      ],
      "metadata": {
        "id": "xodarVNLwu4n"
      },
      "id": "xodarVNLwu4n"
    },
    {
      "cell_type": "markdown",
      "id": "pEXBcP1oidof",
      "metadata": {
        "id": "pEXBcP1oidof"
      },
      "source": [
        "# <font color='blue'> CNN </font>"
      ]
    },
    {
      "cell_type": "code",
      "execution_count": null,
      "id": "89d6c2e8",
      "metadata": {
        "id": "89d6c2e8",
        "outputId": "11460085-d4ea-43e4-9252-e06c112c3ed7"
      },
      "outputs": [
        {
          "name": "stdout",
          "output_type": "stream",
          "text": [
            "WARNING:tensorflow:`input_shape` is undefined or non-square, or `rows` is not in [128, 160, 192, 224]. Weights for input shape (224, 224) will be loaded as the default.\n",
            "Epoch 1/10\n",
            "39/39 [==============================] - 23s 514ms/step - loss: 0.3382 - accuracy: 0.8525\n",
            "Epoch 2/10\n",
            "39/39 [==============================] - 22s 546ms/step - loss: 0.0980 - accuracy: 0.9716\n",
            "Epoch 3/10\n",
            "39/39 [==============================] - 31s 763ms/step - loss: 0.0608 - accuracy: 0.9846\n",
            "Epoch 4/10\n",
            "39/39 [==============================] - 29s 718ms/step - loss: 0.0462 - accuracy: 0.9878\n",
            "Epoch 5/10\n",
            "39/39 [==============================] - 25s 622ms/step - loss: 0.0368 - accuracy: 0.9911\n",
            "Epoch 6/10\n",
            "39/39 [==============================] - 24s 601ms/step - loss: 0.0275 - accuracy: 0.9927\n",
            "Epoch 7/10\n",
            "39/39 [==============================] - 25s 604ms/step - loss: 0.0247 - accuracy: 0.9968\n",
            "Epoch 8/10\n",
            "39/39 [==============================] - 24s 589ms/step - loss: 0.0191 - accuracy: 0.9959\n",
            "Epoch 9/10\n",
            "39/39 [==============================] - 18s 448ms/step - loss: 0.0182 - accuracy: 0.9968\n",
            "Epoch 10/10\n",
            "39/39 [==============================] - 24s 599ms/step - loss: 0.0168 - accuracy: 0.9951\n"
          ]
        }
      ],
      "source": [
        "##Best performance until now\n",
        "\n",
        "# Load a convolutional base with pre-trained weights\n",
        "base_model = tf.keras.applications.MobileNet(\n",
        "    weights='imagenet',  # Pre-trained on ImageNet\n",
        "    include_top=False,  # Do not include the ImageNet classifier at the top\n",
        "    pooling='avg')  # Global average pooling applied after the last convolutional block\n",
        "\n",
        "# Freeze the base model\n",
        "base_model.trainable = False\n",
        "\n",
        "# Add a new classifier layers on top\n",
        "model = tf.keras.Sequential([\n",
        "    base_model,  # The base model\n",
        "    tf.keras.layers.Dense(224, activation='relu'),  # Dense layer with 256 units\n",
        "    tf.keras.layers.Dropout(0.5),\n",
        "    tf.keras.layers.Dense(1, activation='sigmoid'),  # Binary classification so only 1 output unit with sigmoid activation\n",
        "])\n",
        "\n",
        "# Compile the model\n",
        "model.compile(optimizer=tf.keras.optimizers.Adam(learning_rate=0.0001), \n",
        "              loss='binary_crossentropy', \n",
        "              metrics=['accuracy'])\n",
        "\n",
        "# Define number of epochs\n",
        "num_epochs = 10\n",
        "\n",
        "# Train the model\n",
        "history = model.fit(train_images, \n",
        "                    epochs=num_epochs)\n",
        "                #    validation_data=test_images)"
      ]
    },
    {
      "cell_type": "code",
      "execution_count": null,
      "id": "d5c666a0",
      "metadata": {
        "id": "d5c666a0",
        "outputId": "3959ed97-02f1-4f93-87e7-fc260d7c89b7"
      },
      "outputs": [
        {
          "name": "stdout",
          "output_type": "stream",
          "text": [
            "7/7 [==============================] - 4s 461ms/step\n",
            "7/7 [==============================] - 4s 473ms/step - loss: 0.0345 - accuracy: 0.9908\n",
            "Test score: [0.03449578955769539, 0.9908257126808167]\n",
            "The current model achieved a categorical accuracy of 99.08%!\n"
          ]
        }
      ],
      "source": [
        "predictions = model.predict(test_images)\n",
        "\n",
        "results = model.evaluate(test_images)\n",
        "print(f\"Test score: {results}\")\n",
        "print('The current model achieved a categorical accuracy of {}%!'.format(round(results[1]*100,2)))"
      ]
    },
    {
      "cell_type": "code",
      "execution_count": null,
      "id": "fc6a525d",
      "metadata": {
        "id": "fc6a525d",
        "outputId": "a46464f6-0feb-4690-a283-0822f52ef825"
      },
      "outputs": [
        {
          "name": "stdout",
          "output_type": "stream",
          "text": [
            "              precision    recall  f1-score   support\n",
            "\n",
            "      class0       0.49      0.49      0.49       109\n",
            "      class1       0.49      0.49      0.49       109\n",
            "\n",
            "    accuracy                           0.49       218\n",
            "   macro avg       0.49      0.49      0.49       218\n",
            "weighted avg       0.49      0.49      0.49       218\n",
            "\n"
          ]
        }
      ],
      "source": [
        "from sklearn.metrics import classification_report\n",
        "import numpy \n",
        "\n",
        "predicted_classes = np.where(predictions>0.5, 1, 0)\n",
        "class_labels = ['class0', 'class1']  # replace with your actual class names\n",
        "report = classification_report(true_classes, predicted_classes, target_names=class_labels)\n",
        "print(report)\n",
        "\n"
      ]
    },
    {
      "cell_type": "code",
      "execution_count": null,
      "id": "be8b7795",
      "metadata": {
        "id": "be8b7795",
        "outputId": "8ecd3a17-e470-4222-ccac-0668888cf959"
      },
      "outputs": [
        {
          "data": {
            "image/png": "[encoded data removed]",
            "text/plain": [
              "<Figure size 432x288 with 2 Axes>"
            ]
          },
          "metadata": {
            "needs_background": "light"
          },
          "output_type": "display_data"
        }
      ],
      "source": [
        "from sklearn.metrics import confusion_matrix, ConfusionMatrixDisplay\n",
        "cm = confusion_matrix(true_classes, predicted_classes)\n",
        "disp = ConfusionMatrixDisplay(confusion_matrix=cm,\n",
        "                            )\n",
        "disp.plot()\n",
        "plt.show()"
      ]
    },
    {
      "cell_type": "markdown",
      "id": "865eaaa2",
      "metadata": {
        "id": "865eaaa2"
      },
      "source": [
        "# <font color='green'>Evaluate the Model - Revisit this </font>"
      ]
    },
    {
      "cell_type": "code",
      "execution_count": null,
      "id": "SotB1XIDKdC2",
      "metadata": {
        "id": "SotB1XIDKdC2"
      },
      "outputs": [],
      "source": [
        "#Precision, recall, and F1 score (classification report):\n",
        "print(classification_report(y_test, model_pred))"
      ]
    },
    {
      "cell_type": "code",
      "source": [
        "# Use predict_proba \n",
        "# revisit class 2 solutions for \n",
        "#     probas = knn2.predict_proba(X_test)\n",
        "#plot the result using plt.hist(probas[:, 1])\n",
        "#     plt.hist(probas[:, 1])"
      ],
      "metadata": {
        "id": "a2LSoGYAyCqV"
      },
      "id": "a2LSoGYAyCqV",
      "execution_count": null,
      "outputs": []
    },
    {
      "cell_type": "code",
      "execution_count": null,
      "id": "7W6HWlU4Kda1",
      "metadata": {
        "id": "7W6HWlU4Kda1"
      },
      "outputs": [],
      "source": [
        "# print confusion matrix for simple models \n",
        "# MOVE CNN MATRIX DOWN HERE LATER \n",
        "cm = confusion_matrix(y_test, model_pred)\n",
        "\n",
        "disp = ConfusionMatrixDisplay(confusion_matrix=cm,\n",
        "                               display_labels=dm.classes_)\n",
        "disp.plot()\n",
        "plt.show()"
      ]
    },
    {
      "cell_type": "markdown",
      "id": "286cf362",
      "metadata": {
        "id": "286cf362"
      },
      "source": [
        "# <font color='red'>Make Prediction - Revisit this</font>"
      ]
    },
    {
      "cell_type": "code",
      "execution_count": null,
      "id": "7cd3e879",
      "metadata": {
        "id": "7cd3e879"
      },
      "outputs": [],
      "source": [
        "probability_model = tf.keras.Sequential(\n",
        "    [\n",
        "        model, \n",
        "        tf.keras.layers.Softmax()\n",
        "    ]\n",
        ")"
      ]
    },
    {
      "cell_type": "code",
      "execution_count": null,
      "id": "8d140b6f",
      "metadata": {
        "id": "8d140b6f"
      },
      "outputs": [],
      "source": [
        "plot_model(\n",
        "    probability_model, \n",
        "    show_shapes=True, \n",
        "    show_dtype=True,\n",
        "    show_layer_names=True, \n",
        "    show_layer_activations=True\n",
        ")"
      ]
    },
    {
      "cell_type": "code",
      "execution_count": null,
      "id": "e845beb5",
      "metadata": {
        "id": "e845beb5"
      },
      "outputs": [],
      "source": [
        "predictions = probability_model.predict(test_images)"
      ]
    },
    {
      "cell_type": "code",
      "execution_count": null,
      "id": "0208dc1f",
      "metadata": {
        "id": "0208dc1f"
      },
      "outputs": [],
      "source": [
        "predictions[0]"
      ]
    },
    {
      "cell_type": "code",
      "execution_count": null,
      "id": "128ce5cd",
      "metadata": {
        "id": "128ce5cd"
      },
      "outputs": [],
      "source": [
        "i = random.choice(range(predictions.shape[0]))\n",
        "pred = np.argmax(predictions[i])\n",
        "f\"Higest probability for class: {pred} ({FASHION_CLASS_NAMES[pred]}) | Correct label: {test_labels[i]} ({FASHION_CLASS_NAMES[test_labels[i]]})\""
      ]
    },
    {
      "cell_type": "code",
      "execution_count": null,
      "id": "2cfca3d1",
      "metadata": {
        "id": "2cfca3d1"
      },
      "outputs": [],
      "source": [
        "#Examining the test label shows that this classification is correct:\n",
        "def plot_image(i, predictions_array, true_label, img):\n",
        "  true_label, img = true_label[i], img[i]\n",
        "  plt.grid(False)\n",
        "  plt.imshow(img, cmap=plt.cm.binary)\n",
        "\n",
        "  predicted_label = np.argmax(predictions_array)\n",
        "  if predicted_label == true_label:\n",
        "    color = 'blue'\n",
        "  else:\n",
        "    color = 'red'\n",
        "\n",
        "  plt.xlabel(f\"{FASHION_CLASS_NAMES[predicted_label]} {100*np.max(predictions_array):2.0f}% ({FASHION_CLASS_NAMES[true_label]})\", color=color)\n",
        "\n",
        "def plot_value_array(i, predictions_array, true_label):\n",
        "  true_label = true_label[i]\n",
        "  plt.grid(False)\n",
        "  plt.xticks(range(len(FASHION_CLASS_NAMES)), FASHION_CLASS_NAMES, size='small', rotation=30)\n",
        "  plt.yticks(range(100))\n",
        "  thisplot = plt.bar(range(10), predictions_array, color=\"#777777\")\n",
        "  plt.ylim([0, 1])\n",
        "  predicted_label = np.argmax(predictions_array)\n",
        "\n",
        "  thisplot[predicted_label].set_color('red')\n",
        "  thisplot[true_label].set_color('blue')"
      ]
    },
    {
      "cell_type": "markdown",
      "id": "f6711f65",
      "metadata": {
        "id": "f6711f65"
      },
      "source": [
        "# <font color='red'>VERIFY PREDICTIONS - REVISIT THIS</font>"
      ]
    },
    {
      "cell_type": "code",
      "execution_count": null,
      "id": "88dcc7ab",
      "metadata": {
        "id": "88dcc7ab"
      },
      "outputs": [],
      "source": [
        "i = random.choice(range(predictions.shape[0]))\n",
        "\n",
        "plt.figure(figsize=(12,6))\n",
        "plt.subplot(1,2,1)\n",
        "plot_image(i, predictions[i], test_labels, test_images)\n",
        "plt.subplot(1,2,2)\n",
        "plot_value_array(i, predictions[i],  test_labels)\n",
        "plt.show()"
      ]
    },
    {
      "cell_type": "code",
      "execution_count": null,
      "id": "5df5bb36",
      "metadata": {
        "id": "5df5bb36"
      },
      "outputs": [],
      "source": [
        "# Plot the first X test images, their predicted labels, and the true labels.\n",
        "# Color correct predictions in blue and incorrect predictions in red.\n",
        "num_rows = 5\n",
        "num_cols = 3\n",
        "num_images = num_rows*num_cols\n",
        "plt.figure(figsize=(2*4*num_cols, 3*num_rows))\n",
        "for i in range(num_images):\n",
        "  plt.subplot(num_rows, 2*num_cols, 2*i+1)\n",
        "  plot_image(i, predictions[i], test_labels, test_images)\n",
        "  plt.subplot(num_rows, 2*num_cols, 2*i+2)\n",
        "  plot_value_array(i, predictions[i], test_labels)\n",
        "plt.tight_layout()\n",
        "plt.show()"
      ]
    },
    {
      "cell_type": "markdown",
      "id": "37d8fa01",
      "metadata": {
        "id": "37d8fa01"
      },
      "source": [
        "# <font color='red'>USE THE TRAINED MODEL - REVISIT THIS</font>"
      ]
    },
    {
      "cell_type": "code",
      "execution_count": null,
      "id": "35a1b0c4",
      "metadata": {
        "id": "35a1b0c4"
      },
      "outputs": [],
      "source": [
        "# Grab an image from the test dataset.\n",
        "i = random.choice(range(test_images.shape[0]))\n",
        "img = test_images[i]\n",
        "\n",
        "print(img.shape)"
      ]
    },
    {
      "cell_type": "code",
      "execution_count": null,
      "id": "64511602",
      "metadata": {
        "id": "64511602"
      },
      "outputs": [],
      "source": [
        "# Add the image to a batch where it's the only member.\n",
        "img = (np.expand_dims(img,0))\n",
        "\n",
        "print(img.shape)"
      ]
    },
    {
      "cell_type": "code",
      "execution_count": null,
      "id": "0ed08edf",
      "metadata": {
        "id": "0ed08edf"
      },
      "outputs": [],
      "source": [
        "#PREDICT THE CORRECT LABEL\n",
        "predictions_single = probability_model.predict(img)\n",
        "\n",
        "print(predictions_single)"
      ]
    },
    {
      "cell_type": "code",
      "execution_count": null,
      "id": "2f18b073",
      "metadata": {
        "id": "2f18b073"
      },
      "outputs": [],
      "source": [
        "plot_value_array(\n",
        "    i, \n",
        "    predictions_single[0], \n",
        "    test_labels\n",
        ")\n",
        "plt.xticks(range(10), FASHION_CLASS_NAMES, rotation=45)\n",
        "plt.show()"
      ]
    },
    {
      "cell_type": "code",
      "execution_count": null,
      "id": "4a647ff1",
      "metadata": {
        "id": "4a647ff1"
      },
      "outputs": [],
      "source": [
        "#Grab the predictions for our (only) image in the batch:\n",
        "pred_cat = np.argmax(predictions_single[0])\n",
        "pred_cat, FASHION_CLASS_NAMES[pred_cat]"
      ]
    },
    {
      "cell_type": "code",
      "execution_count": null,
      "id": "ab59a1b5",
      "metadata": {
        "id": "ab59a1b5"
      },
      "outputs": [],
      "source": []
    }
  ],
  "metadata": {
    "colab": {
      "provenance": [],
      "include_colab_link": true
    },
    "kernelspec": {
      "display_name": "Python 3 (ipykernel)",
      "language": "python",
      "name": "python3"
    },
    "language_info": {
      "codemirror_mode": {
        "name": "ipython",
        "version": 3
      },
      "file_extension": ".py",
      "mimetype": "text/x-python",
      "name": "python",
      "nbconvert_exporter": "python",
      "pygments_lexer": "ipython3",
      "version": "3.9.12"
    }
  },
  "nbformat": 4,
  "nbformat_minor": 5
}