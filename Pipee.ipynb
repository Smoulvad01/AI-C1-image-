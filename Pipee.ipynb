{
 "cells": [
  {
   "cell_type": "code",
   "execution_count": null,
   "id": "b5074841",
   "metadata": {},
   "outputs": [],
   "source": [
    "import cv2\n",
    "import numpy as np\n",
    "\n",
    "class DataPreprocessingPipeline:\n",
    "    def __init__(self, image_size=(224, 224)):\n",
    "        self.image_size = image_size\n",
    "\n",
    "    def resize_image(self, image):\n",
    "        resized_image = cv2.resize(image, self.image_size)\n",
    "        return resized_image\n",
    "\n",
    "    def convert_to_grayscale(self, image):\n",
    "        grayscale_image = cv2.cvtColor(image, cv2.COLOR_BGR2GRAY)\n",
    "        return grayscale_image\n",
    "\n",
    "    def denoise_image(self, image):\n",
    "        denoised_image = cv2.medianBlur(image, 3)\n",
    "        return denoised_image\n",
    "\n",
    "    def enhance_contrast(self, image):\n",
    "        p2, p98 = np.percentile(image, (2, 98))\n",
    "        enhanced_image = np.clip(image, p2, p98)\n",
    "        enhanced_image = (enhanced_image - p2) / (p98 - p2)\n",
    "        return enhanced_image\n",
    "\n",
    "    def augment_image(self, image):\n",
    "        # Random rotation\n",
    "        angle = np.random.randint(-10, 10)\n",
    "        rows, cols = image.shape[:2]\n",
    "        rotation_matrix = cv2.getRotationMatrix2D((cols/2, rows/2), angle, 1)\n",
    "        augmented_image = cv2.warpAffine(image, rotation_matrix, (cols, rows))\n",
    "\n",
    "        # Random horizontal flip\n",
    "        if np.random.rand() < 0.5:\n",
    "            augmented_image = cv2.flip(augmented_image, 1)\n",
    "\n",
    "        return augmented_image\n",
    "\n",
    "    def preprocess(self, image):\n",
    "        resized_image = self.resize_image(image)\n",
    "        grayscale_image = self.convert_to_grayscale(resized_image)\n",
    "        denoised_image = self.denoise_image(grayscale_image)\n",
    "        enhanced_image = self.enhance_contrast(denoised_image)\n",
    "        augmented_image = self.augment_image(enhanced_image)\n",
    "        return augmented_image\n"
   ]
  },
  {
   "cell_type": "code",
   "execution_count": null,
   "id": "861057bd",
   "metadata": {},
   "outputs": [],
   "source": [
    "pipeline = DataPreprocessingPipeline(image_size=(224, 224))\n",
    "\n",
    "# Assuming `image` is the input image you want to preprocess\n",
    "preprocessed_image = pipeline.preprocess(image)\n"
   ]
  }
 ],
 "metadata": {
  "kernelspec": {
   "display_name": "Python 3 (ipykernel)",
   "language": "python",
   "name": "python3"
  },
  "language_info": {
   "codemirror_mode": {
    "name": "ipython",
    "version": 3
   },
   "file_extension": ".py",
   "mimetype": "text/x-python",
   "name": "python",
   "nbconvert_exporter": "python",
   "pygments_lexer": "ipython3",
   "version": "3.9.12"
  }
 },
 "nbformat": 4,
 "nbformat_minor": 5
}
