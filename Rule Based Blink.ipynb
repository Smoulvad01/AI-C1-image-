{
 "cells": [
  {
   "cell_type": "code",
   "execution_count": 1,
   "id": "05f6ec03",
   "metadata": {},
   "outputs": [
    {
     "ename": "ModuleNotFoundError",
     "evalue": "No module named 'cv2'",
     "output_type": "error",
     "traceback": [
      "\u001b[1;31m---------------------------------------------------------------------------\u001b[0m",
      "\u001b[1;31mModuleNotFoundError\u001b[0m                       Traceback (most recent call last)",
      "Input \u001b[1;32mIn [1]\u001b[0m, in \u001b[0;36m<cell line: 1>\u001b[1;34m()\u001b[0m\n\u001b[1;32m----> 1\u001b[0m \u001b[38;5;28;01mimport\u001b[39;00m \u001b[38;5;21;01mcv2\u001b[39;00m\n\u001b[0;32m      2\u001b[0m \u001b[38;5;28;01mimport\u001b[39;00m \u001b[38;5;21;01mdlib\u001b[39;00m\n\u001b[0;32m      3\u001b[0m \u001b[38;5;28;01mfrom\u001b[39;00m \u001b[38;5;21;01mimutils\u001b[39;00m \u001b[38;5;28;01mimport\u001b[39;00m face_utils\n",
      "\u001b[1;31mModuleNotFoundError\u001b[0m: No module named 'cv2'"
     ]
    }
   ],
   "source": [
    "import cv2\n",
    "import dlib\n",
    "from imutils import face_utils\n",
    "\n",
    "# Load the face detector and landmark predictor\n",
    "detector = dlib.get_frontal_face_detector()\n",
    "predictor = dlib.shape_predictor('path/to/shape_predictor_68_face_landmarks.dat')\n",
    "\n",
    "# Define the EAR threshold for blink detection\n",
    "EAR_THRESHOLD = 0.2\n",
    "\n",
    "def calculate_ear(eye):\n",
    "    # Calculate the euclidean distances between the vertical eye landmarks\n",
    "    A = eye[1]\n",
    "    B = eye[5]\n",
    "    C = eye[4]\n",
    "    D = eye[2]\n",
    "    E = eye[0]\n",
    "    F = eye[3]\n",
    "    d1 = cv2.norm(C - A)\n",
    "    d2 = cv2.norm(D - B)\n",
    "    d3 = cv2.norm(F - E)\n",
    "\n",
    "    # Calculate the EAR\n",
    "    ear = (d1 + d2) / (2 * d3)\n",
    "    return ear\n",
    "\n",
    "def detect_blink(image):\n",
    "    # Convert the image to grayscale\n",
    "    gray = cv2.cvtColor(image, cv2.COLOR_BGR2GRAY)\n",
    "\n",
    "    # Detect faces in the image\n",
    "    faces = detector(gray, 0)\n",
    "\n",
    "    # Loop through each face\n",
    "    for face in faces:\n",
    "        # Detect the landmarks for the face\n",
    "        shape = predictor(gray, face)\n",
    "        shape = face_utils.shape_to_np(shape)\n",
    "\n",
    "        # Extract the left and right eye landmarks\n",
    "        left_eye = shape[36:42]\n",
    "        right_eye = shape[42:48]\n",
    "\n",
    "        # Calculate the EAR for each eye\n",
    "        left_ear = calculate_ear(left_eye)\n",
    "        right_ear = calculate_ear(right_eye)\n",
    "\n",
    "        # Check if the average EAR is below the threshold\n",
    "        if (left_ear + right_ear) / 2 < EAR_THRESHOLD:\n",
    "            return True\n",
    "\n",
    "    # If no blink is detected, return False\n",
    "    return False"
   ]
  },
  {
   "cell_type": "code",
   "execution_count": 2,
   "id": "9cfa38ce",
   "metadata": {},
   "outputs": [
    {
     "ename": "FileNotFoundError",
     "evalue": "[WinError 3] Den angivne sti blev ikke fundet: '/path/to/yawn-eye-dataset-new/'",
     "output_type": "error",
     "traceback": [
      "\u001b[1;31m---------------------------------------------------------------------------\u001b[0m",
      "\u001b[1;31mFileNotFoundError\u001b[0m                         Traceback (most recent call last)",
      "Input \u001b[1;32mIn [2]\u001b[0m, in \u001b[0;36m<cell line: 6>\u001b[1;34m()\u001b[0m\n\u001b[0;32m      4\u001b[0m data_dir \u001b[38;5;241m=\u001b[39m \u001b[38;5;124m'\u001b[39m\u001b[38;5;124m/path/to/yawn-eye-dataset-new/\u001b[39m\u001b[38;5;124m'\u001b[39m\n\u001b[0;32m      5\u001b[0m images \u001b[38;5;241m=\u001b[39m []\n\u001b[1;32m----> 6\u001b[0m \u001b[38;5;28;01mfor\u001b[39;00m file \u001b[38;5;129;01min\u001b[39;00m \u001b[43mos\u001b[49m\u001b[38;5;241;43m.\u001b[39;49m\u001b[43mlistdir\u001b[49m\u001b[43m(\u001b[49m\u001b[43mdata_dir\u001b[49m\u001b[43m)\u001b[49m:\n\u001b[0;32m      7\u001b[0m     \u001b[38;5;28;01mif\u001b[39;00m file\u001b[38;5;241m.\u001b[39mendswith(\u001b[38;5;124m'\u001b[39m\u001b[38;5;124m.jpg\u001b[39m\u001b[38;5;124m'\u001b[39m):\n\u001b[0;32m      8\u001b[0m         image \u001b[38;5;241m=\u001b[39m cv2\u001b[38;5;241m.\u001b[39mimread(os\u001b[38;5;241m.\u001b[39mpath\u001b[38;5;241m.\u001b[39mjoin(data_dir, file))\n",
      "\u001b[1;31mFileNotFoundError\u001b[0m: [WinError 3] Den angivne sti blev ikke fundet: '/path/to/yawn-eye-dataset-new/'"
     ]
    }
   ],
   "source": [
    "import os\n",
    "\n",
    "# Load the images from the dataset\n",
    "data_dir = '/path/to/yawn-eye-dataset-new/'\n",
    "images = []\n",
    "for file in os.listdir(data_dir):\n",
    "    if file.endswith('.jpg'):\n",
    "        image = cv2.imread(os.path.join(data_dir, file))\n",
    "        images.append(image)\n",
    "\n",
    "# Detect blinks in each image\n",
    "for image in images:\n",
    "    if detect_blink(image):\n",
    "        print('Blink detected')\n",
    "    else:\n",
    "        print('No blink detected')\n"
   ]
  },
  {
   "cell_type": "code",
   "execution_count": null,
   "id": "26fdc10e",
   "metadata": {},
   "outputs": [],
   "source": []
  }
 ],
 "metadata": {
  "kernelspec": {
   "display_name": "Python 3 (ipykernel)",
   "language": "python",
   "name": "python3"
  },
  "language_info": {
   "codemirror_mode": {
    "name": "ipython",
    "version": 3
   },
   "file_extension": ".py",
   "mimetype": "text/x-python",
   "name": "python",
   "nbconvert_exporter": "python",
   "pygments_lexer": "ipython3",
   "version": "3.9.12"
  }
 },
 "nbformat": 4,
 "nbformat_minor": 5
}
